{
 "cells": [
  {
   "cell_type": "markdown",
   "id": "97f77931",
   "metadata": {},
   "source": [
    "# Importing Libraries"
   ]
  },
  {
   "cell_type": "code",
   "execution_count": 1,
   "id": "539c1dba",
   "metadata": {},
   "outputs": [],
   "source": [
    "import pandas as pd\n",
    "pd.set_option('display.max_rows', 10)\n",
    "pd.set_option('display.max_columns', 10)\n",
    "import numpy as np\n",
    "from matplotlib import pyplot as plt\n",
    "import seaborn as sns\n",
    "import warnings\n",
    "warnings.filterwarnings('ignore')"
   ]
  },
  {
   "cell_type": "markdown",
   "id": "2246ce41",
   "metadata": {},
   "source": [
    "# Importing DataFrames"
   ]
  },
  {
   "cell_type": "code",
   "execution_count": 2,
   "id": "9ffad159",
   "metadata": {},
   "outputs": [],
   "source": [
    "Customers = pd.read_csv(r'C:\\Users\\m9wrc\\OneDrive\\Desktop\\New Begining\\Product Strategy Team In Banking Domain\\Data Dump\\dim_customers.csv')\n",
    "Spends = pd.read_csv(r'C:\\Users\\m9wrc\\OneDrive\\Desktop\\New Begining\\Product Strategy Team In Banking Domain\\Data Dump\\fact_spends.csv')"
   ]
  },
  {
   "cell_type": "markdown",
   "id": "4c4f0736",
   "metadata": {},
   "source": [
    "# EDA & Data Munging"
   ]
  },
  {
   "cell_type": "markdown",
   "id": "97235aba",
   "metadata": {},
   "source": [
    "## Defining function to summarize DataFrames "
   ]
  },
  {
   "cell_type": "code",
   "execution_count": 3,
   "id": "d92a46ac",
   "metadata": {},
   "outputs": [],
   "source": [
    "def summarize_table(df):\n",
    "    rows, columns = df.shape\n",
    "    print(f'''\\033[1mTable Shape:''')\n",
    "    print(f'''\\033[1mRows: \\033[0m{rows}''')\n",
    "    print(f'''\\033[1mColumns: \\033[0m{columns}''')\n",
    "    print(f'\\n')\n",
    "    print(f'''\\033[1mColumn Names: \\033[0m''')\n",
    "    for columns in df.columns:\n",
    "        print(columns, end = ' | ')\n",
    "    print('\\n')\n",
    "    print(f'''\\033[1mTable info : \\033[0m''')\n",
    "    df.info()\n",
    "    print('\\n')\n",
    "    print(f'''\\033[1mStatistical info of Table : \\033[0m''')\n",
    "    print(df.describe())\n",
    "    print('\\n')\n",
    "    print(f'''\\033[1mColumn Description : \\033[0m''')\n",
    "    print(df.describe(include = 'object'))\n",
    "    print('\\n')\n",
    "    print(f'''\\033[1mCount of unique values in each column : \\033[0m''')\n",
    "    for column in df.columns:\n",
    "        unique_values = df[column].nunique()\n",
    "        print(f'''\\033[1m{column} : \\033[0m {unique_values}''')\n",
    "    print('\\n')\n",
    "    print(f'''\\033[1mCount of null values in each column : \\033[0m''')\n",
    "    for column in df.columns:\n",
    "        null_values = df[column].isnull().sum()\n",
    "        print(f'''\\033[1m{column} : \\033[0m {null_values}''')"
   ]
  },
  {
   "cell_type": "markdown",
   "id": "dab587dd",
   "metadata": {},
   "source": [
    "## Customers Table Summary"
   ]
  },
  {
   "cell_type": "code",
   "execution_count": 4,
   "id": "7420dbf0",
   "metadata": {
    "scrolled": true
   },
   "outputs": [
    {
     "name": "stdout",
     "output_type": "stream",
     "text": [
      "\u001b[1mTable Shape:\n",
      "\u001b[1mRows: \u001b[0m4000\n",
      "\u001b[1mColumns: \u001b[0m7\n",
      "\n",
      "\n",
      "\u001b[1mColumn Names: \u001b[0m\n",
      "customer_id | age_group | city | occupation | gender | marital status | avg_income | \n",
      "\n",
      "\u001b[1mTable info : \u001b[0m\n",
      "<class 'pandas.core.frame.DataFrame'>\n",
      "RangeIndex: 4000 entries, 0 to 3999\n",
      "Data columns (total 7 columns):\n",
      " #   Column          Non-Null Count  Dtype \n",
      "---  ------          --------------  ----- \n",
      " 0   customer_id     4000 non-null   object\n",
      " 1   age_group       4000 non-null   object\n",
      " 2   city            4000 non-null   object\n",
      " 3   occupation      4000 non-null   object\n",
      " 4   gender          4000 non-null   object\n",
      " 5   marital status  4000 non-null   object\n",
      " 6   avg_income      4000 non-null   int64 \n",
      "dtypes: int64(1), object(6)\n",
      "memory usage: 218.9+ KB\n",
      "\n",
      "\n",
      "\u001b[1mStatistical info of Table : \u001b[0m\n",
      "         avg_income\n",
      "count   4000.000000\n",
      "mean   51657.032250\n",
      "std    14690.140645\n",
      "min    24816.000000\n",
      "25%    38701.000000\n",
      "50%    50422.000000\n",
      "75%    64773.250000\n",
      "max    86600.000000\n",
      "\n",
      "\n",
      "\u001b[1mColumn Description : \u001b[0m\n",
      "       customer_id age_group    city             occupation gender  \\\n",
      "count         4000      4000    4000                   4000   4000   \n",
      "unique        4000         4       5                      5      2   \n",
      "top     ATQCUS1825     25-34  Mumbai  Salaried IT Employees   Male   \n",
      "freq             1      1498    1078                   1294   2597   \n",
      "\n",
      "       marital status  \n",
      "count            4000  \n",
      "unique              2  \n",
      "top           Married  \n",
      "freq             3136  \n",
      "\n",
      "\n",
      "\u001b[1mCount of unique values in each column : \u001b[0m\n",
      "\u001b[1mcustomer_id : \u001b[0m 4000\n",
      "\u001b[1mage_group : \u001b[0m 4\n",
      "\u001b[1mcity : \u001b[0m 5\n",
      "\u001b[1moccupation : \u001b[0m 5\n",
      "\u001b[1mgender : \u001b[0m 2\n",
      "\u001b[1mmarital status : \u001b[0m 2\n",
      "\u001b[1mavg_income : \u001b[0m 3819\n",
      "\n",
      "\n",
      "\u001b[1mCount of null values in each column : \u001b[0m\n",
      "\u001b[1mcustomer_id : \u001b[0m 0\n",
      "\u001b[1mage_group : \u001b[0m 0\n",
      "\u001b[1mcity : \u001b[0m 0\n",
      "\u001b[1moccupation : \u001b[0m 0\n",
      "\u001b[1mgender : \u001b[0m 0\n",
      "\u001b[1mmarital status : \u001b[0m 0\n",
      "\u001b[1mavg_income : \u001b[0m 0\n"
     ]
    }
   ],
   "source": [
    "summarize_table(Customers)"
   ]
  },
  {
   "cell_type": "code",
   "execution_count": 5,
   "id": "c6f0d7ed",
   "metadata": {
    "scrolled": true
   },
   "outputs": [
    {
     "data": {
      "text/html": [
       "<div>\n",
       "<style scoped>\n",
       "    .dataframe tbody tr th:only-of-type {\n",
       "        vertical-align: middle;\n",
       "    }\n",
       "\n",
       "    .dataframe tbody tr th {\n",
       "        vertical-align: top;\n",
       "    }\n",
       "\n",
       "    .dataframe thead th {\n",
       "        text-align: right;\n",
       "    }\n",
       "</style>\n",
       "<table border=\"1\" class=\"dataframe\">\n",
       "  <thead>\n",
       "    <tr style=\"text-align: right;\">\n",
       "      <th></th>\n",
       "      <th>customer_id</th>\n",
       "      <th>age_group</th>\n",
       "      <th>city</th>\n",
       "      <th>occupation</th>\n",
       "      <th>gender</th>\n",
       "      <th>marital_status</th>\n",
       "      <th>avg_income</th>\n",
       "    </tr>\n",
       "  </thead>\n",
       "  <tbody>\n",
       "    <tr>\n",
       "      <th>0</th>\n",
       "      <td>ATQCUS1825</td>\n",
       "      <td>45+</td>\n",
       "      <td>Bengaluru</td>\n",
       "      <td>Salaried IT Employees</td>\n",
       "      <td>Male</td>\n",
       "      <td>Married</td>\n",
       "      <td>73523</td>\n",
       "    </tr>\n",
       "    <tr>\n",
       "      <th>1</th>\n",
       "      <td>ATQCUS0809</td>\n",
       "      <td>25-34</td>\n",
       "      <td>Hyderabad</td>\n",
       "      <td>Salaried Other Employees</td>\n",
       "      <td>Male</td>\n",
       "      <td>Married</td>\n",
       "      <td>39922</td>\n",
       "    </tr>\n",
       "    <tr>\n",
       "      <th>2</th>\n",
       "      <td>ATQCUS0663</td>\n",
       "      <td>25-34</td>\n",
       "      <td>Chennai</td>\n",
       "      <td>Salaried Other Employees</td>\n",
       "      <td>Male</td>\n",
       "      <td>Married</td>\n",
       "      <td>37702</td>\n",
       "    </tr>\n",
       "  </tbody>\n",
       "</table>\n",
       "</div>"
      ],
      "text/plain": [
       "  customer_id age_group       city                occupation gender  \\\n",
       "0  ATQCUS1825       45+  Bengaluru     Salaried IT Employees   Male   \n",
       "1  ATQCUS0809     25-34  Hyderabad  Salaried Other Employees   Male   \n",
       "2  ATQCUS0663     25-34    Chennai  Salaried Other Employees   Male   \n",
       "\n",
       "  marital_status  avg_income  \n",
       "0        Married       73523  \n",
       "1        Married       39922  \n",
       "2        Married       37702  "
      ]
     },
     "execution_count": 5,
     "metadata": {},
     "output_type": "execute_result"
    }
   ],
   "source": [
    "Customers = Customers.rename(columns = {\"marital status\" : 'marital_status'})\n",
    "Customers.head(3)"
   ]
  },
  {
   "cell_type": "code",
   "execution_count": 6,
   "id": "e6f15ac9",
   "metadata": {},
   "outputs": [
    {
     "name": "stdout",
     "output_type": "stream",
     "text": [
      "\u001b[1mTotal Customers : \u001b[0m 4000\n",
      "\n",
      "\n",
      "\u001b[1mTotal Customers by gender : \n",
      "\u001b[0m gender  customer_id\n",
      "Female         1403\n",
      "  Male         2597\n",
      "\n",
      "\n",
      "\u001b[1mTotal Customers by age group : \n",
      "\u001b[0m age_group  customer_id\n",
      "    21-24          691\n",
      "    25-34         1498\n",
      "    35-45         1273\n",
      "      45+          538\n",
      "\n",
      "\n",
      "\u001b[1mTotal Customers by City : \n",
      "\u001b[0m      city  customer_id\n",
      "Bengaluru          751\n",
      "  Chennai          834\n",
      "Delhi NCR          744\n",
      "Hyderabad          593\n",
      "   Mumbai         1078\n",
      "\n",
      "\n",
      "\u001b[1mTotal Customers by Occupation : \n",
      "\u001b[0m               occupation  customer_id\n",
      "         Business Owners          630\n",
      "             Freelancers          784\n",
      "    Government Employees          399\n",
      "   Salaried IT Employees         1294\n",
      "Salaried Other Employees          893\n",
      "\n",
      "\n",
      "\u001b[1mTotal Customers by marital status: \n",
      "\u001b[0m marital_status  customer_id\n",
      "       Married         3136\n",
      "        Single          864\n"
     ]
    }
   ],
   "source": [
    "print (f\"\\033[1mTotal Customers : \\033[0m {Customers.customer_id.count()}\")\n",
    "print('\\n')\n",
    "print (f\"\\033[1mTotal Customers by gender : \\n\\033[0m {Customers.groupby('gender').customer_id.count().reset_index().to_string(index = False)}\")\n",
    "print('\\n')\n",
    "print (f\"\\033[1mTotal Customers by age group : \\n\\033[0m {Customers.groupby('age_group').customer_id.count().reset_index().to_string(index = False)}\")\n",
    "print('\\n')\n",
    "print (f\"\\033[1mTotal Customers by City : \\n\\033[0m {Customers.groupby('city').customer_id.count().reset_index().to_string(index = False)}\")\n",
    "print('\\n')\n",
    "print (f\"\\033[1mTotal Customers by Occupation : \\n\\033[0m {Customers.groupby('occupation').customer_id.count().reset_index().to_string(index = False)}\")\n",
    "print('\\n')\n",
    "print (f\"\\033[1mTotal Customers by marital status: \\n\\033[0m {Customers.groupby('marital_status').customer_id.count().reset_index().to_string(index = False)}\")"
   ]
  },
  {
   "cell_type": "markdown",
   "id": "358ad25a",
   "metadata": {},
   "source": [
    "## Spends Table Summary"
   ]
  },
  {
   "cell_type": "code",
   "execution_count": 7,
   "id": "a46e10e3",
   "metadata": {
    "scrolled": false
   },
   "outputs": [
    {
     "name": "stdout",
     "output_type": "stream",
     "text": [
      "\u001b[1mTable Shape:\n",
      "\u001b[1mRows: \u001b[0m864000\n",
      "\u001b[1mColumns: \u001b[0m5\n",
      "\n",
      "\n",
      "\u001b[1mColumn Names: \u001b[0m\n",
      "customer_id | month | category | payment_type | spend | \n",
      "\n",
      "\u001b[1mTable info : \u001b[0m\n",
      "<class 'pandas.core.frame.DataFrame'>\n",
      "RangeIndex: 864000 entries, 0 to 863999\n",
      "Data columns (total 5 columns):\n",
      " #   Column        Non-Null Count   Dtype \n",
      "---  ------        --------------   ----- \n",
      " 0   customer_id   864000 non-null  object\n",
      " 1   month         864000 non-null  object\n",
      " 2   category      864000 non-null  object\n",
      " 3   payment_type  864000 non-null  object\n",
      " 4   spend         864000 non-null  int64 \n",
      "dtypes: int64(1), object(4)\n",
      "memory usage: 33.0+ MB\n",
      "\n",
      "\n",
      "\u001b[1mStatistical info of Table : \u001b[0m\n",
      "               spend\n",
      "count  864000.000000\n",
      "mean      614.464994\n",
      "std       661.571676\n",
      "min         6.000000\n",
      "25%       191.000000\n",
      "50%       395.000000\n",
      "75%       793.000000\n",
      "max     10313.000000\n",
      "\n",
      "\n",
      "\u001b[1mColumn Description : \u001b[0m\n",
      "       customer_id   month           category payment_type\n",
      "count       864000  864000             864000       864000\n",
      "unique        4000       6                  9            4\n",
      "top     ATQCUS1371    July  Health & Wellness  Credit Card\n",
      "freq           216  144000              96000       216000\n",
      "\n",
      "\n",
      "\u001b[1mCount of unique values in each column : \u001b[0m\n",
      "\u001b[1mcustomer_id : \u001b[0m 4000\n",
      "\u001b[1mmonth : \u001b[0m 6\n",
      "\u001b[1mcategory : \u001b[0m 9\n",
      "\u001b[1mpayment_type : \u001b[0m 4\n",
      "\u001b[1mspend : \u001b[0m 5744\n",
      "\n",
      "\n",
      "\u001b[1mCount of null values in each column : \u001b[0m\n",
      "\u001b[1mcustomer_id : \u001b[0m 0\n",
      "\u001b[1mmonth : \u001b[0m 0\n",
      "\u001b[1mcategory : \u001b[0m 0\n",
      "\u001b[1mpayment_type : \u001b[0m 0\n",
      "\u001b[1mspend : \u001b[0m 0\n"
     ]
    }
   ],
   "source": [
    "summarize_table(Spends)"
   ]
  },
  {
   "cell_type": "code",
   "execution_count": 8,
   "id": "96e25a68",
   "metadata": {},
   "outputs": [
    {
     "name": "stdout",
     "output_type": "stream",
     "text": [
      "\u001b[1mUnique Months : \n",
      "\u001b[0m ['July' 'October' 'May' 'September' 'June' 'August']\n",
      "\n",
      "\n",
      "\u001b[1mUniqe Categories : \n",
      "\u001b[0m ['Health & Wellness' 'Groceries' 'Electronics' 'Bills' 'Entertainment'\n",
      " 'Apparel' 'Food' 'Others' 'Travel']\n",
      "\n",
      "\n",
      "\u001b[1mUniqe Payment Types : \n",
      "\u001b[0m ['Credit Card' 'UPI' 'Debit Card' 'Net Banking']\n"
     ]
    }
   ],
   "source": [
    "print(f\"\\033[1mUnique Months : \\n\\033[0m {Spends.month.unique()}\")\n",
    "print('\\n')\n",
    "print (f\"\\033[1mUniqe Categories : \\n\\033[0m {Spends.category.unique()}\")\n",
    "print('\\n')\n",
    "print (f\"\\033[1mUniqe Payment Types : \\n\\033[0m {Spends.payment_type.unique()}\")"
   ]
  },
  {
   "cell_type": "markdown",
   "id": "ae9a9e61",
   "metadata": {},
   "source": [
    "## Merging customers table and spends table for analysis"
   ]
  },
  {
   "cell_type": "code",
   "execution_count": 9,
   "id": "3fd54a94",
   "metadata": {},
   "outputs": [],
   "source": [
    "customer_spend = Customers.merge(Spends, on = 'customer_id')"
   ]
  },
  {
   "cell_type": "code",
   "execution_count": 10,
   "id": "891fb3a5",
   "metadata": {},
   "outputs": [
    {
     "data": {
      "text/html": [
       "<div>\n",
       "<style scoped>\n",
       "    .dataframe tbody tr th:only-of-type {\n",
       "        vertical-align: middle;\n",
       "    }\n",
       "\n",
       "    .dataframe tbody tr th {\n",
       "        vertical-align: top;\n",
       "    }\n",
       "\n",
       "    .dataframe thead th {\n",
       "        text-align: right;\n",
       "    }\n",
       "</style>\n",
       "<table border=\"1\" class=\"dataframe\">\n",
       "  <thead>\n",
       "    <tr style=\"text-align: right;\">\n",
       "      <th></th>\n",
       "      <th>customer_id</th>\n",
       "      <th>age_group</th>\n",
       "      <th>city</th>\n",
       "      <th>occupation</th>\n",
       "      <th>gender</th>\n",
       "      <th>...</th>\n",
       "      <th>avg_income</th>\n",
       "      <th>month</th>\n",
       "      <th>category</th>\n",
       "      <th>payment_type</th>\n",
       "      <th>spend</th>\n",
       "    </tr>\n",
       "  </thead>\n",
       "  <tbody>\n",
       "    <tr>\n",
       "      <th>0</th>\n",
       "      <td>ATQCUS1825</td>\n",
       "      <td>45+</td>\n",
       "      <td>Bengaluru</td>\n",
       "      <td>Salaried IT Employees</td>\n",
       "      <td>Male</td>\n",
       "      <td>...</td>\n",
       "      <td>73523</td>\n",
       "      <td>May</td>\n",
       "      <td>Electronics</td>\n",
       "      <td>Net Banking</td>\n",
       "      <td>405</td>\n",
       "    </tr>\n",
       "    <tr>\n",
       "      <th>1</th>\n",
       "      <td>ATQCUS1825</td>\n",
       "      <td>45+</td>\n",
       "      <td>Bengaluru</td>\n",
       "      <td>Salaried IT Employees</td>\n",
       "      <td>Male</td>\n",
       "      <td>...</td>\n",
       "      <td>73523</td>\n",
       "      <td>May</td>\n",
       "      <td>Groceries</td>\n",
       "      <td>Debit Card</td>\n",
       "      <td>1096</td>\n",
       "    </tr>\n",
       "    <tr>\n",
       "      <th>2</th>\n",
       "      <td>ATQCUS1825</td>\n",
       "      <td>45+</td>\n",
       "      <td>Bengaluru</td>\n",
       "      <td>Salaried IT Employees</td>\n",
       "      <td>Male</td>\n",
       "      <td>...</td>\n",
       "      <td>73523</td>\n",
       "      <td>June</td>\n",
       "      <td>Bills</td>\n",
       "      <td>Credit Card</td>\n",
       "      <td>2765</td>\n",
       "    </tr>\n",
       "    <tr>\n",
       "      <th>3</th>\n",
       "      <td>ATQCUS1825</td>\n",
       "      <td>45+</td>\n",
       "      <td>Bengaluru</td>\n",
       "      <td>Salaried IT Employees</td>\n",
       "      <td>Male</td>\n",
       "      <td>...</td>\n",
       "      <td>73523</td>\n",
       "      <td>September</td>\n",
       "      <td>Apparel</td>\n",
       "      <td>Debit Card</td>\n",
       "      <td>363</td>\n",
       "    </tr>\n",
       "    <tr>\n",
       "      <th>4</th>\n",
       "      <td>ATQCUS1825</td>\n",
       "      <td>45+</td>\n",
       "      <td>Bengaluru</td>\n",
       "      <td>Salaried IT Employees</td>\n",
       "      <td>Male</td>\n",
       "      <td>...</td>\n",
       "      <td>73523</td>\n",
       "      <td>May</td>\n",
       "      <td>Food</td>\n",
       "      <td>Debit Card</td>\n",
       "      <td>334</td>\n",
       "    </tr>\n",
       "    <tr>\n",
       "      <th>5</th>\n",
       "      <td>ATQCUS1825</td>\n",
       "      <td>45+</td>\n",
       "      <td>Bengaluru</td>\n",
       "      <td>Salaried IT Employees</td>\n",
       "      <td>Male</td>\n",
       "      <td>...</td>\n",
       "      <td>73523</td>\n",
       "      <td>October</td>\n",
       "      <td>Bills</td>\n",
       "      <td>Net Banking</td>\n",
       "      <td>1031</td>\n",
       "    </tr>\n",
       "    <tr>\n",
       "      <th>6</th>\n",
       "      <td>ATQCUS1825</td>\n",
       "      <td>45+</td>\n",
       "      <td>Bengaluru</td>\n",
       "      <td>Salaried IT Employees</td>\n",
       "      <td>Male</td>\n",
       "      <td>...</td>\n",
       "      <td>73523</td>\n",
       "      <td>June</td>\n",
       "      <td>Groceries</td>\n",
       "      <td>Net Banking</td>\n",
       "      <td>1048</td>\n",
       "    </tr>\n",
       "    <tr>\n",
       "      <th>7</th>\n",
       "      <td>ATQCUS1825</td>\n",
       "      <td>45+</td>\n",
       "      <td>Bengaluru</td>\n",
       "      <td>Salaried IT Employees</td>\n",
       "      <td>Male</td>\n",
       "      <td>...</td>\n",
       "      <td>73523</td>\n",
       "      <td>September</td>\n",
       "      <td>Health &amp; Wellness</td>\n",
       "      <td>UPI</td>\n",
       "      <td>922</td>\n",
       "    </tr>\n",
       "    <tr>\n",
       "      <th>8</th>\n",
       "      <td>ATQCUS1825</td>\n",
       "      <td>45+</td>\n",
       "      <td>Bengaluru</td>\n",
       "      <td>Salaried IT Employees</td>\n",
       "      <td>Male</td>\n",
       "      <td>...</td>\n",
       "      <td>73523</td>\n",
       "      <td>June</td>\n",
       "      <td>Apparel</td>\n",
       "      <td>UPI</td>\n",
       "      <td>131</td>\n",
       "    </tr>\n",
       "    <tr>\n",
       "      <th>9</th>\n",
       "      <td>ATQCUS1825</td>\n",
       "      <td>45+</td>\n",
       "      <td>Bengaluru</td>\n",
       "      <td>Salaried IT Employees</td>\n",
       "      <td>Male</td>\n",
       "      <td>...</td>\n",
       "      <td>73523</td>\n",
       "      <td>August</td>\n",
       "      <td>Apparel</td>\n",
       "      <td>UPI</td>\n",
       "      <td>262</td>\n",
       "    </tr>\n",
       "  </tbody>\n",
       "</table>\n",
       "<p>10 rows × 11 columns</p>\n",
       "</div>"
      ],
      "text/plain": [
       "  customer_id age_group       city             occupation gender  ...  \\\n",
       "0  ATQCUS1825       45+  Bengaluru  Salaried IT Employees   Male  ...   \n",
       "1  ATQCUS1825       45+  Bengaluru  Salaried IT Employees   Male  ...   \n",
       "2  ATQCUS1825       45+  Bengaluru  Salaried IT Employees   Male  ...   \n",
       "3  ATQCUS1825       45+  Bengaluru  Salaried IT Employees   Male  ...   \n",
       "4  ATQCUS1825       45+  Bengaluru  Salaried IT Employees   Male  ...   \n",
       "5  ATQCUS1825       45+  Bengaluru  Salaried IT Employees   Male  ...   \n",
       "6  ATQCUS1825       45+  Bengaluru  Salaried IT Employees   Male  ...   \n",
       "7  ATQCUS1825       45+  Bengaluru  Salaried IT Employees   Male  ...   \n",
       "8  ATQCUS1825       45+  Bengaluru  Salaried IT Employees   Male  ...   \n",
       "9  ATQCUS1825       45+  Bengaluru  Salaried IT Employees   Male  ...   \n",
       "\n",
       "  avg_income      month           category payment_type spend  \n",
       "0      73523        May        Electronics  Net Banking   405  \n",
       "1      73523        May          Groceries   Debit Card  1096  \n",
       "2      73523       June              Bills  Credit Card  2765  \n",
       "3      73523  September            Apparel   Debit Card   363  \n",
       "4      73523        May               Food   Debit Card   334  \n",
       "5      73523    October              Bills  Net Banking  1031  \n",
       "6      73523       June          Groceries  Net Banking  1048  \n",
       "7      73523  September  Health & Wellness          UPI   922  \n",
       "8      73523       June            Apparel          UPI   131  \n",
       "9      73523     August            Apparel          UPI   262  \n",
       "\n",
       "[10 rows x 11 columns]"
      ]
     },
     "execution_count": 10,
     "metadata": {},
     "output_type": "execute_result"
    }
   ],
   "source": [
    "customer_spend.head(10)"
   ]
  },
  {
   "cell_type": "code",
   "execution_count": 11,
   "id": "2a7c90ee",
   "metadata": {
    "scrolled": true
   },
   "outputs": [
    {
     "name": "stdout",
     "output_type": "stream",
     "text": [
      "\u001b[1mAverage Total Income : \u001b[0m 206.63M\n",
      "\u001b[1mAverage Total Spend : \u001b[0m 88.48M\n",
      "\u001b[1mIncome Utilization : \u001b[0m 42.82%\n"
     ]
    }
   ],
   "source": [
    "avg_total_income = round(Customers.avg_income.sum()/ 1000000, 2)\n",
    "print (f\"\\033[1mAverage Total Income : \\033[0m {avg_total_income}M\")\n",
    "\n",
    "avg_total_spend = round((customer_spend.spend.sum() / customer_spend.month.nunique()) / 1000000, 2)\n",
    "print (f\"\\033[1mAverage Total Spend : \\033[0m {avg_total_spend}M\")\n",
    "\n",
    "income_utilization = round(((avg_total_spend / avg_total_income) * 100), 2)\n",
    "print (f\"\\033[1mIncome Utilization : \\033[0m {income_utilization}%\")"
   ]
  },
  {
   "cell_type": "code",
   "execution_count": 12,
   "id": "907f37db",
   "metadata": {},
   "outputs": [
    {
     "name": "stdout",
     "output_type": "stream",
     "text": [
      "\u001b[1mAverage Total Income (Male Customers): \u001b[0m 134.09M\n",
      "\u001b[1mAverage Total Spend (Male Customers): \u001b[0m 59.52M\n",
      "\u001b[1mIncome Utilization (Male Customers): \u001b[0m 44.39%\n"
     ]
    }
   ],
   "source": [
    "avg_total_income = round(Customers.query(\"gender == 'Male'\").avg_income.sum()/ 1000000, 2)\n",
    "print (f\"\\033[1mAverage Total Income (Male Customers): \\033[0m {avg_total_income}M\")\n",
    "\n",
    "avg_total_spend = round((customer_spend.query(\"gender == 'Male'\").spend.sum() / Spends.month.nunique()) / 1000000, 2)\n",
    "print (f\"\\033[1mAverage Total Spend (Male Customers): \\033[0m {avg_total_spend}M\")\n",
    "\n",
    "income_utilization = round(((avg_total_spend / avg_total_income) * 100), 2)\n",
    "print (f\"\\033[1mIncome Utilization (Male Customers): \\033[0m {income_utilization}%\")"
   ]
  },
  {
   "cell_type": "code",
   "execution_count": 13,
   "id": "515b044c",
   "metadata": {},
   "outputs": [
    {
     "name": "stdout",
     "output_type": "stream",
     "text": [
      "\u001b[1mAverage Total Income (Male Customers): \u001b[0m 72.54M\n",
      "\u001b[1mAverage Total Spend (Male Customers): \u001b[0m 28.96M\n",
      "\u001b[1mIncome Utilization (Male Customers): \u001b[0m 39.92%\n"
     ]
    }
   ],
   "source": [
    "avg_total_income = round(Customers.query(\"gender == 'Female'\").avg_income.sum()/ 1000000, 2)\n",
    "print (f\"\\033[1mAverage Total Income (Male Customers): \\033[0m {avg_total_income}M\")\n",
    "\n",
    "avg_total_spend = round((customer_spend.query(\"gender == 'Female'\").spend.sum() / Spends.month.nunique()) / 1000000, 2)\n",
    "print (f\"\\033[1mAverage Total Spend (Male Customers): \\033[0m {avg_total_spend}M\")\n",
    "\n",
    "income_utilization = round(((avg_total_spend / avg_total_income) * 100), 2)\n",
    "print (f\"\\033[1mIncome Utilization (Male Customers): \\033[0m {income_utilization}%\")"
   ]
  },
  {
   "cell_type": "code",
   "execution_count": 14,
   "id": "90f5944d",
   "metadata": {},
   "outputs": [
    {
     "name": "stdout",
     "output_type": "stream",
     "text": [
      "\u001b[1mTotal Spend : \u001b[0m 530.9M\n",
      "\u001b[1mTotal Spend (Using CC) : \u001b[0m 216.31M\n",
      "\u001b[1mCredit Card Utilization : \u001b[0m 40.74%\n"
     ]
    }
   ],
   "source": [
    "total_spend = round(customer_spend.spend.sum()/ 1000000, 2)\n",
    "print (f\"\\033[1mTotal Spend : \\033[0m {total_spend}M\")\n",
    "\n",
    "total_spend_using_CC = round(customer_spend.query(\"payment_type == 'Credit Card'\").spend.sum() / 1000000, 2)\n",
    "print (f\"\\033[1mTotal Spend (Using CC) : \\033[0m {total_spend_using_CC}M\")\n",
    "\n",
    "cc_utilization = round(((total_spend_using_CC / total_spend) * 100), 2)\n",
    "print (f\"\\033[1mCredit Card Utilization : \\033[0m {cc_utilization}%\")"
   ]
  },
  {
   "cell_type": "code",
   "execution_count": 15,
   "id": "aba4e1d8",
   "metadata": {},
   "outputs": [
    {
     "name": "stdout",
     "output_type": "stream",
     "text": [
      "\u001b[1mTotal Spend : \u001b[0m 357.14M\n",
      "\u001b[1mTotal Spend (Using CC) : \u001b[0m 144.2M\n",
      "\u001b[1mCredit Card Utilization% (Male) : \u001b[0m 40.38%\n"
     ]
    }
   ],
   "source": [
    "total_spend_male = round(customer_spend.query(\"gender == 'Male'\").spend.sum()/ 1000000, 2)\n",
    "print (f\"\\033[1mTotal Spend : \\033[0m {total_spend_male}M\")\n",
    "\n",
    "total_spend_using_CC_male = round(customer_spend.query(\"gender == 'Male' & payment_type == 'Credit Card'\").spend.sum() / 1000000, 2)\n",
    "print (f\"\\033[1mTotal Spend (Using CC) : \\033[0m {total_spend_using_CC_male}M\")\n",
    "\n",
    "cc_utilization = round(((total_spend_using_CC_male / total_spend_male) * 100), 2)\n",
    "print (f\"\\033[1mCredit Card Utilization% (Male) : \\033[0m {cc_utilization}%\")"
   ]
  },
  {
   "cell_type": "code",
   "execution_count": 16,
   "id": "45698a9b",
   "metadata": {},
   "outputs": [
    {
     "name": "stdout",
     "output_type": "stream",
     "text": [
      "\u001b[1mTotal Spend : \u001b[0m 173.76M\n",
      "\u001b[1mTotal Spend (Using CC) : \u001b[0m 72.11M\n",
      "\u001b[1mCredit Card Utilization (Female) : \u001b[0m 41.5%\n"
     ]
    }
   ],
   "source": [
    "total_spend_female = round(customer_spend.query(\"gender == 'Female'\").spend.sum()/ 1000000, 2)\n",
    "print (f\"\\033[1mTotal Spend : \\033[0m {total_spend_female}M\")\n",
    "\n",
    "total_spend_using_CC_female = round(customer_spend.query(\"gender == 'Female' & payment_type == 'Credit Card'\").spend.sum() / 1000000, 2)\n",
    "print (f\"\\033[1mTotal Spend (Using CC) : \\033[0m {total_spend_using_CC_female}M\")\n",
    "\n",
    "cc_utilization = round(((total_spend_using_CC_female / total_spend_female) * 100), 2)\n",
    "print (f\"\\033[1mCredit Card Utilization (Female) : \\033[0m {cc_utilization}%\")"
   ]
  },
  {
   "cell_type": "code",
   "execution_count": 17,
   "id": "9ef90551",
   "metadata": {},
   "outputs": [],
   "source": [
    "customer_spend_using_CC = customer_spend.query(\"payment_type == 'Credit Card'\").reset_index()"
   ]
  },
  {
   "cell_type": "code",
   "execution_count": 18,
   "id": "43309701",
   "metadata": {
    "scrolled": false
   },
   "outputs": [
    {
     "data": {
      "image/png": "[encoded data removed]",
      "text/plain": [
       "<Figure size 432x432 with 1 Axes>"
      ]
     },
     "metadata": {},
     "output_type": "display_data"
    }
   ],
   "source": [
    "cc_spend_by_gender = customer_spend_using_CC.groupby('gender').spend.sum().reset_index()\n",
    "\n",
    "plt.figure(figsize = (6,6))\n",
    "plt.pie(cc_spend_by_gender['spend'], labels = cc_spend_by_gender['gender'], autopct = '%0.1f%%', explode = [.02, .02])\n",
    "plt.title(\"Spend% Using CC by gender\")\n",
    "plt.show()"
   ]
  },
  {
   "cell_type": "code",
   "execution_count": 19,
   "id": "e7286b32",
   "metadata": {},
   "outputs": [
    {
     "data": {
      "image/png": "[encoded data removed]",
      "text/plain": [
       "<Figure size 432x432 with 1 Axes>"
      ]
     },
     "metadata": {
      "needs_background": "light"
     },
     "output_type": "display_data"
    }
   ],
   "source": [
    "cc_spend_by_marital_status = customer_spend_using_CC.groupby('marital_status').spend.sum().reset_index()\n",
    "cc_spend_by_marital_status.spend = round(cc_spend_by_marital_status.spend / 1000000, 2)\n",
    "\n",
    "plt.figure(figsize = (6,6))\n",
    "sns.barplot(y = cc_spend_by_marital_status['spend'], x = cc_spend_by_marital_status['marital_status'])\n",
    "plt.title(\"Total Spend (in millions) using cc by marital status\")\n",
    "for i, v in enumerate(cc_spend_by_marital_status['spend']):\n",
    "    plt.text(i, v, str(v), ha = 'center', va = 'bottom')\n",
    "plt.xlabel('Marital Status')\n",
    "plt.ylabel('Total Spend')\n",
    "plt.show()"
   ]
  },
  {
   "cell_type": "code",
   "execution_count": 20,
   "id": "f95a835d",
   "metadata": {},
   "outputs": [
    {
     "data": {
      "image/png": "[encoded data removed]",
      "text/plain": [
       "<Figure size 576x432 with 2 Axes>"
      ]
     },
     "metadata": {
      "needs_background": "light"
     },
     "output_type": "display_data"
    }
   ],
   "source": [
    "spend_age_group_city = customer_spend_using_CC.groupby(['age_group', 'city']).spend.sum().reset_index()\n",
    "spend_age_group_city.spend = round(spend_age_group_city.spend/ 1000000, 2)\n",
    "spend_age_group_city = spend_age_group_city.pivot(index = 'age_group', columns = 'city', values = 'spend')\n",
    "\n",
    "plt.figure(figsize = (8,6))\n",
    "sns.heatmap(spend_age_group_city, annot = True, fmt = '.2g', linewidth = .5, cmap = 'crest')\n",
    "plt.xlabel(\"City\")\n",
    "plt.ylabel(\"Age Group\")\n",
    "plt.title(\"Total spend using cc (in millions) by age group and city\")\n",
    "plt.show()"
   ]
  },
  {
   "cell_type": "code",
   "execution_count": 21,
   "id": "83f8a79e",
   "metadata": {},
   "outputs": [
    {
     "data": {
      "image/png": "[encoded data removed]",
      "text/plain": [
       "<Figure size 576x720 with 2 Axes>"
      ]
     },
     "metadata": {
      "needs_background": "light"
     },
     "output_type": "display_data"
    }
   ],
   "source": [
    "spend_category_month = customer_spend_using_CC.groupby(['category', 'month']).spend.sum().reset_index()\n",
    "spend_category_month.spend = round(spend_category_month.spend/ 1000000, 2)\n",
    "spend_category_month = spend_category_month.pivot(index = 'category', columns = 'month', values = 'spend')\n",
    "\n",
    "plt.figure(figsize = (8,10))\n",
    "sns.heatmap(spend_category_month, annot = True, fmt = '.2g', linewidth = .5, cmap = 'crest')\n",
    "plt.xlabel(\"Month\")\n",
    "plt.ylabel(\"Category\")\n",
    "plt.title(\"Total spend using cc (in millions) by Category & Month\")\n",
    "plt.show()"
   ]
  },
  {
   "cell_type": "code",
   "execution_count": null,
   "id": "77db095e",
   "metadata": {},
   "outputs": [],
   "source": []
  }
 ],
 "metadata": {
  "kernelspec": {
   "display_name": "Python 3 (ipykernel)",
   "language": "python",
   "name": "python3"
  },
  "language_info": {
   "codemirror_mode": {
    "name": "ipython",
    "version": 3
   },
   "file_extension": ".py",
   "mimetype": "text/x-python",
   "name": "python",
   "nbconvert_exporter": "python",
   "pygments_lexer": "ipython3",
   "version": "3.10.5"
  }
 },
 "nbformat": 4,
 "nbformat_minor": 5
}
